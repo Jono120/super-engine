{
  "cells": [
    {
      "cell_type": "markdown",
      "metadata": {
        "id": "siRw6yC8Iej8"
      },
      "source": [
        "# Modify Assignment 3 Notebook\n",
        "**Objective:** Using checkpoint save the training model weights. \n",
        "\n",
        "To achieve this, ensure that in Assignment 3 notebook, you have created a folder in the content folder called *training_1*.\n",
        "\n",
        "Also you have the following script written before the model.fit cell.\n",
        "\n",
        "\n",
        "```\n",
        "checkpoint_path = \"training_1/cp.ckpt\"\n",
        "checkpoint_dir = os.path.dirname(checkpoint_path)\n",
        "\n",
        "# Create a callback that saves the model's weights\n",
        "cp_callback = tf.keras.callbacks.ModelCheckpoint(filepath=checkpoint_path,\n",
        "                                                 save_weights_only=True,\n",
        "                                                 verbose=1)\n",
        "```\n",
        "Furthermore, in the model.fit function call, add the fourth parameter \n",
        "\n",
        "```\n",
        "callbacks=[cp_callback]\n",
        "```\n",
        "so that the complete function call is like,\n",
        "\n",
        "\n",
        "\n",
        "```\n",
        "history_fine = model.fit(train_batches,\n",
        "                         epochs=total_epochs,\n",
        "                         initial_epoch =  history.epoch[-1],\n",
        "                         validation_data=validation_batches,\n",
        "                         callbacks=[cp_callback])\n",
        "```\n",
        "\n",
        "Execute the Assignment 3 Notebook after making the above modifications. And, then download all files from training_1 folder of Assignment 3."
      ]
    },
    {
      "cell_type": "markdown",
      "metadata": {
        "id": "lsLzeYPPKhhe"
      },
      "source": [
        "# Assignment 2 Guide"
      ]
    },
    {
      "cell_type": "code",
      "execution_count": null,
      "metadata": {
        "id": "cGoW72d7rxA2"
      },
      "outputs": [],
      "source": [
        "import os\n",
        "import sys\n",
        "import cv2\n",
        "import numpy as np\n",
        "import tensorflow as tf\n",
        "\n",
        "from google.colab.patches import cv2_imshow"
      ]
    },
    {
      "cell_type": "code",
      "execution_count": null,
      "metadata": {
        "colab": {
          "base_uri": "https://localhost:8080/"
        },
        "id": "61VPhBxSsUDE",
        "outputId": "5481e1a2-0b68-4ebc-a35a-9a9f5f268c6b"
      },
      "outputs": [
        {
          "name": "stdout",
          "output_type": "stream",
          "text": [
            "Mounted at /content/drive\n"
          ]
        }
      ],
      "source": [
        "from google.colab import drive\n",
        "drive.mount('/content/drive', force_remount= True)"
      ]
    },
    {
      "cell_type": "markdown",
      "metadata": {
        "id": "GQRCNQ85NGm-"
      },
      "source": [
        "Create training_1 folder in Google Drive and populate it with downloaded files using Google Drive interface. \n",
        "\n",
        "![image.png](data:image/png;base64,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)"
      ]
    },
    {
      "cell_type": "markdown",
      "metadata": {
        "id": "Z0mFTb8kGOiA"
      },
      "source": [
        "Using Assignment 3, redefine the function below. The function would stay in Assignment 2 notebook.\n",
        "\n",
        "\n",
        "1.   What is ***global_average_layer*** defined as, copy-paste to overwrite if needed.\n",
        "2.   What is ***prediction_layer***, copy-paste to overwrite if needed.\n",
        "3.   What is ***base_learning_rate***, copy-paste to overwrite if needed.\n",
        "4.   How is ***model.compile*** function called, copy-paste its parameters and overwrite if needed."
      ]
    },
    {
      "cell_type": "code",
      "execution_count": null,
      "metadata": {
        "id": "rhgnT1c0D34g"
      },
      "outputs": [],
      "source": [
        "# Define a simple sequential model\n",
        "def create_model():\n",
        "    IMG_SHAPE = (160, 160, 3)\n",
        "    base_model = tf.keras.applications.MobileNetV2(input_shape=IMG_SHAPE,\n",
        "                                               include_top=False,\n",
        "                                               weights='imagenet')\n",
        "                                               \n",
        "    global_average_layer = tf.keras.layers.GlobalAveragePooling2D()\n",
        "    #feature_batch_average = global_average_layer(feature_batch)\n",
        "                                               \n",
        "    prediction_layer = tf.keras.layers.Dense(1)                                            \n",
        "    model = tf.keras.Sequential([base_model,global_average_layer,\n",
        "    prediction_layer])\n",
        "\n",
        "    base_learning_rate = 0.0001\n",
        "    model.compile(optimizer=tf.keras.optimizers.RMSprop(learning_rate=base_learning_rate),\n",
        "              loss=tf.keras.losses.BinaryCrossentropy(from_logits=True),\n",
        "              metrics=['accuracy'])\n",
        "    return model\n"
      ]
    },
    {
      "cell_type": "code",
      "execution_count": null,
      "metadata": {
        "colab": {
          "base_uri": "https://localhost:8080/"
        },
        "id": "QPNhff1yOPds",
        "outputId": "b692ad46-9d40-4a78-ffa1-f7c0b5af33e3"
      },
      "outputs": [
        {
          "name": "stdout",
          "output_type": "stream",
          "text": [
            "Downloading data from https://storage.googleapis.com/tensorflow/keras-applications/mobilenet_v2/mobilenet_v2_weights_tf_dim_ordering_tf_kernels_1.0_160_no_top.h5\n",
            "9406464/9406464 [==============================] - 0s 0us/step\n"
          ]
        }
      ],
      "source": [
        "# Create a basic model instance\n",
        "model = create_model()"
      ]
    },
    {
      "cell_type": "code",
      "execution_count": null,
      "metadata": {
        "colab": {
          "base_uri": "https://localhost:8080/"
        },
        "id": "cBub8kzwOQVs",
        "outputId": "35185d48-72eb-42dd-b7ba-4448e20546cb"
      },
      "outputs": [
        {
          "data": {
            "text/plain": [
              "<tensorflow.python.training.tracking.util.CheckpointLoadStatus at 0x7f7261114d90>"
            ]
          },
          "execution_count": 56,
          "metadata": {},
          "output_type": "execute_result"
        }
      ],
      "source": [
        "checkpoint_path = \"/content/drive/MyDrive/Assignment2/training_1/cp.ckpt\"\n",
        "# Loads the weights\n",
        "model.load_weights(checkpoint_path)"
      ]
    },
    {
      "cell_type": "code",
      "execution_count": null,
      "metadata": {
        "id": "0PgGIPZYr2f0"
      },
      "outputs": [],
      "source": [
        "import keras.utils as image\n",
        "import matplotlib.pyplot as plt\n",
        "\n",
        "def read_images(path, sz=None):\n",
        "    \"\"\"Reads the images in a given folder, resizes images on the fly if size is given.\n",
        "\n",
        "    Args:\n",
        "        path: Path to a folder with subfolders representing the subjects (persons).\n",
        "        sz: A tuple with the size Resizes\n",
        "\n",
        "    Returns:\n",
        "        A list [X,y]\n",
        "\n",
        "            X: The images, which is a Python list of numpy arrays.\n",
        "            y: The corresponding labels (the unique number of the subject, person) in a Python list.\n",
        "    \"\"\"\n",
        "    c = 0\n",
        "    strerror = ''\n",
        "    errno = 0\n",
        "    X,y = [], []\n",
        "    new_size = (sz, sz)\n",
        "    for dirname, dirnames, filenames in os.walk(path):\n",
        "        for subdirname in dirnames:\n",
        "            subject_path = os.path.join(dirname, subdirname)\n",
        "            for filename in os.listdir(subject_path):\n",
        "                try:\n",
        "                    if (filename == \".directory\"):\n",
        "                        continue\n",
        "                    filepath = os.path.join(subject_path, filename)\n",
        "                    print (filepath)\n",
        "                    im = image.load_img(os.path.join(subject_path, filename))\n",
        "                    #multiple ways to do pre processing. If you have already achieved this, then ignore.\n",
        "                    #One way could be to create \n",
        "                    #an if else if statement here which is controlled by an additional \n",
        "                    #parameter of this function.\n",
        "                    #if choice == 0: no pre processing\n",
        "                    #elif choice == 1: pre processing with colour enhancement\n",
        "                    #elif choice == 2: pre processing with colour sharpness\n",
        "                    #refer to this URL for pre processing approaches: https://www.geeksforgeeks.org/image-enhancement-in-pil/\n",
        "\n",
        "\n",
        "                    #When you are compiling results, you would call this function 3 times \n",
        "                    print(im)\n",
        "                    plt.imshow(im)\n",
        "                    if (im is None):\n",
        "                        print (\"image \" + filepath + \" is none\") \n",
        "                    # resize to given size (if given)\n",
        "                    if (sz is not None):   \n",
        "                        #ref: https://www.geeksforgeeks.org/image-recognition-with-mobilenet/\n",
        "\n",
        "                        res_img = im.resize(new_size)\n",
        "                        # Convert the PIL image to Tensor\n",
        "                        resizedimg = image.img_to_array(res_img)\n",
        "                        finalimg = np.expand_dims(resizedimg,axis=0)\n",
        "                        finalimg = tf.keras.applications.mobilenet_v2.preprocess_input(finalimg)\n",
        "                        finalimg.shape                       \n",
        "\n",
        "                    #X.append(np.asarray(im, dtype=np.uint8))\n",
        "                    X.append(finalimg)\n",
        "                    y.append(c)\n",
        "                # except IOError, (errno, strerror):\n",
        "                #     print (\"I/O error({0}): {1}\".format(errno, strerror))\n",
        "                except:\n",
        "                    print (\"Unexpected error:\", sys.exc_info()[0])\n",
        "                    raise\n",
        "            c = c+1\n",
        "    return [X,y]\n"
      ]
    },
    {
      "cell_type": "code",
      "execution_count": null,
      "metadata": {
        "id": "GfsARLtOtcgq"
      },
      "outputs": [],
      "source": [
        "[X,y] = read_images('/content/drive/MyDrive/Assignment2/images/', 160)"
      ]
    },
    {
      "cell_type": "code",
      "execution_count": null,
      "metadata": {
        "colab": {
          "base_uri": "https://localhost:8080/"
        },
        "id": "wp0_wBVHr-q1",
        "outputId": "ebea42db-a0cf-4a76-fc9a-7063c561ff30"
      },
      "outputs": [
        {
          "data": {
            "text/plain": [
              "[0, 0, 0, 0, 0, 0, 0, 0, 0, 0, 1, 1, 1, 1, 1, 1, 1, 1, 1, 1]"
            ]
          },
          "execution_count": 103,
          "metadata": {},
          "output_type": "execute_result"
        }
      ],
      "source": [
        "y"
      ]
    },
    {
      "cell_type": "code",
      "execution_count": null,
      "metadata": {
        "id": "ibmomccnx2vJ"
      },
      "outputs": [],
      "source": [
        "#cv2_imshow(X)"
      ]
    },
    {
      "cell_type": "code",
      "execution_count": null,
      "metadata": {
        "id": "Sy8PkCxavR3s"
      },
      "outputs": [],
      "source": [
        "#from tensorflow.keras.models import load_model\n",
        "# import tensorflow as tf\n",
        "# model = tf.keras.models.load_model('/content/drive/MyDrive/Assignment2/trained_model/my_model.h5')"
      ]
    },
    {
      "cell_type": "code",
      "execution_count": null,
      "metadata": {
        "colab": {
          "base_uri": "https://localhost:8080/"
        },
        "id": "8yVe3u71zPce",
        "outputId": "ff372b1b-b08b-460a-ebe8-982de01d40c3"
      },
      "outputs": [
        {
          "name": "stdout",
          "output_type": "stream",
          "text": [
            "Total Params: 2259265\n",
            "Model: \"sequential\"\n",
            "_________________________________________________________________\n",
            " Layer (type)                Output Shape              Param #   \n",
            "=================================================================\n",
            " mobilenetv2_1.00_160 (Funct  (None, 5, 5, 1280)       2257984   \n",
            " ional)                                                          \n",
            "                                                                 \n",
            " global_average_pooling2d (G  (None, 1280)             0         \n",
            " lobalAveragePooling2D)                                          \n",
            "                                                                 \n",
            " dense (Dense)               (None, 1)                 1281      \n",
            "                                                                 \n",
            "=================================================================\n",
            "Total params: 2,259,265\n",
            "Trainable params: 2,225,153\n",
            "Non-trainable params: 34,112\n",
            "_________________________________________________________________\n"
          ]
        }
      ],
      "source": [
        "print(\"Total Params:\", model.count_params())\n",
        "model.summary()"
      ]
    },
    {
      "cell_type": "code",
      "execution_count": null,
      "metadata": {
        "colab": {
          "base_uri": "https://localhost:8080/"
        },
        "id": "E7pgeeHGvxdF",
        "outputId": "22e5b837-50a1-45c1-855b-9713b5db4fc3"
      },
      "outputs": [
        {
          "name": "stdout",
          "output_type": "stream",
          "text": [
            "1/1 [==============================] - 1s 784ms/step\n"
          ]
        },
        {
          "data": {
            "text/plain": [
              "array([[-0.05311431]], dtype=float32)"
            ]
          },
          "execution_count": 104,
          "metadata": {},
          "output_type": "execute_result"
        }
      ],
      "source": [
        "#predicted_labels = model.predict(X[0])\n",
        "model.predict(X[0])\n",
        "#print(\"no helmet\" if model.predict(X[0]) > 0 else \"helmet\")"
      ]
    }
  ],
  "metadata": {
    "colab": {
      "provenance": []
    },
    "kernelspec": {
      "display_name": "Python 3",
      "language": "python",
      "name": "python3"
    },
    "language_info": {
      "name": "python",
      "version": "3.11.2"
    },
    "vscode": {
      "interpreter": {
        "hash": "2c411529d52bd385a0c5cc81dc7774bf283ab520578901012898b94c5b56fc2a"
      }
    }
  },
  "nbformat": 4,
  "nbformat_minor": 0
}
